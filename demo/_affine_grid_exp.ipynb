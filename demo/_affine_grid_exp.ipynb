{
 "cells": [
  {
   "cell_type": "markdown",
   "metadata": {},
   "source": [
    "# Some experiences regarding the affine_grid pytorch function"
   ]
  },
  {
   "cell_type": "code",
   "execution_count": 1,
   "metadata": {
    "pycharm": {
     "is_executing": false
    }
   },
   "outputs": [],
   "source": [
    "import os, sys\n",
    "sys.path.append('C:\\\\Users\\\\matthias\\\\Documents\\\\myProjects\\\\TU_Bibliothek\\\\code\\\\baseline-extract')\n",
    "from src.data.dataset_line_rider import DatasetLineRider\n",
    "from src.utils.normalize_baselines import *\n",
    "\n",
    "import torch\n",
    "import numpy as np\n",
    "import math"
   ]
  },
  {
   "cell_type": "code",
   "execution_count": 447,
   "metadata": {},
   "outputs": [],
   "source": [
    "def compute_start_and_angle(baseline, idx):\n",
    "    if torch.abs(baseline[idx, 0] - baseline[idx + 1, 0]) < 0.001:\n",
    "        angle = torch.tensor(math.pi / 2.0)\n",
    "    else:\n",
    "        angle = torch.atan((baseline[idx, 1] - baseline[idx + 1, 1]) / (baseline[idx, 0] - baseline[idx + 1, 0]))\n",
    "    # TODO: ^ make sure that the angle doesn't flip for vertical baselines\n",
    "\n",
    "    x = baseline[idx, 0]\n",
    "    y = baseline[idx, 1]\n",
    "\n",
    "    return x, y, angle"
   ]
  },
  {
   "cell_type": "code",
   "execution_count": 448,
   "metadata": {},
   "outputs": [],
   "source": [
    "parameters = {\"input_folder\": '..\\\\data\\\\cBAD-ICDAR2019', \"max_side\": 1024}"
   ]
  },
  {
   "cell_type": "code",
   "execution_count": 449,
   "metadata": {},
   "outputs": [],
   "source": [
    "shuffle = {'train': False, 'eval': False}\n",
    "batch_size_dict = {'train': 1, 'eval': 1}\n",
    "\n",
    "image_datasets = {inf_type: DatasetLineRider(inf_type=inf_type,\n",
    "                                            parameters=parameters)\n",
    "                  for inf_type in ['train', 'eval']}\n",
    "\n",
    "dataloaders = {inf_type: torch.utils.data.DataLoader(image_datasets[inf_type],\n",
    "                                                     batch_size=batch_size_dict[inf_type],\n",
    "                                                     shuffle=shuffle[inf_type],\n",
    "                                                     num_workers=4)\n",
    "               for inf_type in ['train', 'eval']}"
   ]
  },
  {
   "cell_type": "code",
   "execution_count": 524,
   "metadata": {},
   "outputs": [
    {
     "name": "stderr",
     "output_type": "stream",
     "text": [
      "Clipping input data to the valid range for imshow with RGB data ([0..1] for floats or [0..255] for integers).\n"
     ]
    },
    {
     "data": {
      "text/plain": [
       "<matplotlib.image.AxesImage at 0x1c8a0706f98>"
      ]
     },
     "execution_count": 524,
     "metadata": {},
     "output_type": "execute_result"
    },
    {
     "data": {
      "image/png": "[encoded data removed]",
      "text/plain": [
       "<Figure size 432x288 with 1 Axes>"
      ]
     },
     "metadata": {
      "needs_background": "light"
     },
     "output_type": "display_data"
    }
   ],
   "source": [
    "d0 = image_datasets['train'][80]\n",
    "plt.imshow(d0['image'].permute(1,2,0).numpy())"
   ]
  },
  {
   "cell_type": "code",
   "execution_count": 451,
   "metadata": {},
   "outputs": [],
   "source": [
    "bl_lengths = d0['bl_lengths']"
   ]
  },
  {
   "cell_type": "code",
   "execution_count": 452,
   "metadata": {},
   "outputs": [],
   "source": [
    "import torchvision\n",
    "import matplotlib.pyplot as plt"
   ]
  },
  {
   "cell_type": "code",
   "execution_count": 532,
   "metadata": {},
   "outputs": [
    {
     "data": {
      "text/plain": [
       "tensor(2)"
      ]
     },
     "execution_count": 532,
     "metadata": {},
     "output_type": "execute_result"
    }
   ],
   "source": [
    "bl_lengths[12]"
   ]
  },
  {
   "cell_type": "code",
   "execution_count": 546,
   "metadata": {},
   "outputs": [],
   "source": [
    "n = 10\n",
    "step = 0\n",
    "size_par = 128"
   ]
  },
  {
   "cell_type": "code",
   "execution_count": 547,
   "metadata": {},
   "outputs": [],
   "source": [
    "box_width = 64\n",
    "box_height = 32\n",
    "\n",
    "bl = d0['baselines'][n][:bl_lengths[n]]\n",
    "bl_n = normalize_baselines(bl, box_width, device='cpu')\n",
    "my_bl = bl_n\n",
    "baselines_n = [normalize_baselines(b[:bl_lengths[n]], box_width, device='cpu') for n, b in enumerate(d0['baselines'][0:21])]"
   ]
  },
  {
   "cell_type": "code",
   "execution_count": 548,
   "metadata": {},
   "outputs": [],
   "source": [
    "input_t = d0['image'].unsqueeze(0)"
   ]
  },
  {
   "cell_type": "code",
   "execution_count": 549,
   "metadata": {},
   "outputs": [
    {
     "name": "stderr",
     "output_type": "stream",
     "text": [
      "c:\\users\\matthias\\documents\\myprojects\\tu_bibliothek\\code\\baseline-extract\\venv\\lib\\site-packages\\ipykernel_launcher.py:17: UserWarning: To copy construct from a tensor, it is recommended to use sourceTensor.clone().detach() or sourceTensor.clone().detach().requires_grad_(True), rather than torch.tensor(sourceTensor).\n"
     ]
    }
   ],
   "source": [
    "x_0, y_0, angle = compute_start_and_angle(bl_n, step)\n",
    "\n",
    "\n",
    "img_w = input_t.size(3)\n",
    "img_h = input_t.size(2)\n",
    "\n",
    "w_box_ratio = box_width/img_w\n",
    "h_box_ratio = box_height/img_h\n",
    "\n",
    "# grid_sample expects grid coordinates scaled to [-1,1]. This means that (-1,-1) is the top left corner and\n",
    "# (1,1) is the bottom right corner.\n",
    "w_box = box_width/img_w*2\n",
    "h_box = box_height/img_h*2\n",
    "x_scaled = x_0/img_w*2\n",
    "y_scaled = y_0/img_h*2\n",
    "\n",
    "alpha = torch.tensor(angle)\n",
    "x_s = -1.0+x_scaled+np.cos(angle)*w_box/2\n",
    "y_s = -1.0+y_scaled-np.sin(angle)*w_box/2\n",
    "scale_x = w_box_ratio\n",
    "scale_y = h_box_ratio\n",
    "theta = torch.tensor([[scale_x*torch.cos(alpha), -scale_x*torch.sin(alpha), x_s],[scale_y*torch.sin(alpha), scale_y*torch.cos(alpha), y_s]]).unsqueeze(0).float()\n",
    "size = (1, 3, size_par, size_par) #input_t.shape\n",
    "\n",
    "\n",
    "agrid = torch.nn.functional.affine_grid(theta, size, align_corners=None)\n",
    "grid_out = torch.nn.functional.grid_sample(input_t, agrid, mode='bilinear', padding_mode='zeros', align_corners=None)"
   ]
  },
  {
   "cell_type": "code",
   "execution_count": 568,
   "metadata": {},
   "outputs": [
    {
     "name": "stderr",
     "output_type": "stream",
     "text": [
      "c:\\users\\matthias\\documents\\myprojects\\tu_bibliothek\\code\\baseline-extract\\venv\\lib\\site-packages\\ipykernel_launcher.py:4: UserWarning: To copy construct from a tensor, it is recommended to use sourceTensor.clone().detach() or sourceTensor.clone().detach().requires_grad_(True), rather than torch.tensor(sourceTensor).\n",
      "  after removing the cwd from sys.path.\n"
     ]
    },
    {
     "name": "stdout",
     "output_type": "stream",
     "text": [
      "Theta:\n",
      "tensor([[[ 0.2286,  0.0506, -0.5629],\n",
      "         [-0.1011,  0.1143,  0.4265]]])\n"
     ]
    }
   ],
   "source": [
    "box_width = 256\n",
    "box_height = 128\n",
    "\n",
    "alpha = torch.tensor(angle)\n",
    "scale_x = box_width/1024\n",
    "scale_y = box_height/1024\n",
    "x_s = -1.0+(x_scaled+torch.cos(angle)*scale_x/2)*torch.cos(alpha) - (y_scaled+torch.sin(angle)*scale_y/2)*torch.sin(alpha)#+torch.cos(angle)*scale_x/2\n",
    "y_s = -1.0+(x_scaled+torch.cos(angle)*scale_x/2)*torch.sin(alpha) + (y_scaled+torch.sin(angle)*scale_y/2)*torch.cos(alpha)#+torch.sin(angle)*scale_y/2 #TODO: plus or minus\n",
    "\n",
    "\n",
    "x_s= -1.0 + x_scaled + box_width/(2*1024)*torch.cos(alpha)\n",
    "y_s= -1.0 + y_scaled + box_width/(2*1024)*torch.sin(alpha)\n",
    "\n",
    "theta_rot = torch.tensor([[torch.cos(alpha), -torch.sin(alpha), x_s],[torch.sin(alpha), torch.cos(alpha), y_s], [0, 0, 1]])\n",
    "theta_scale = torch.tensor([[scale_x, 0, 0],[0, scale_y, 0], [0, 0, 1]])\n",
    "theta = torch.mm(theta_rot, theta_scale)[0:2].unsqueeze(0).float()\n",
    "\n",
    "print('Theta:')\n",
    "print(theta)\n",
    "\n",
    "size = (1, 3, box_height, box_width) #input_t.shape\n",
    "agrid = torch.nn.functional.affine_grid(theta, size, align_corners=None)\n",
    "grid_out = torch.nn.functional.grid_sample(input_t, agrid, mode='bilinear', padding_mode='zeros', align_corners=None)"
   ]
  },
  {
   "cell_type": "code",
   "execution_count": 576,
   "metadata": {},
   "outputs": [
    {
     "data": {
      "text/plain": [
       "False"
      ]
     },
     "execution_count": 576,
     "metadata": {},
     "output_type": "execute_result"
    }
   ],
   "source": [
    "True and False or True and False"
   ]
  },
  {
   "cell_type": "code",
   "execution_count": 569,
   "metadata": {},
   "outputs": [
    {
     "name": "stderr",
     "output_type": "stream",
     "text": [
      "Clipping input data to the valid range for imshow with RGB data ([0..1] for floats or [0..255] for integers).\n"
     ]
    },
    {
     "data": {
      "text/plain": [
       "<matplotlib.image.AxesImage at 0x1c8b2c09f60>"
      ]
     },
     "execution_count": 569,
     "metadata": {},
     "output_type": "execute_result"
    },
    {
     "data": {
      "image/png": "[encoded data removed]",
      "text/plain": [
       "<Figure size 432x288 with 1 Axes>"
      ]
     },
     "metadata": {
      "needs_background": "light"
     },
     "output_type": "display_data"
    }
   ],
   "source": [
    "grid_image = grid_out[0].permute(1,2,0).numpy()\n",
    "plt.imshow(grid_image)"
   ]
  },
  {
   "cell_type": "code",
   "execution_count": 504,
   "metadata": {},
   "outputs": [
    {
     "name": "stderr",
     "output_type": "stream",
     "text": [
      "Clipping input data to the valid range for imshow with RGB data ([0..1] for floats or [0..255] for integers).\n"
     ]
    },
    {
     "data": {
      "text/plain": [
       "<matplotlib.image.AxesImage at 0x1c89c46b198>"
      ]
     },
     "execution_count": 504,
     "metadata": {},
     "output_type": "execute_result"
    },
    {
     "data": {
      "image/png": "[encoded data removed]",
      "text/plain": [
       "<Figure size 432x288 with 1 Axes>"
      ]
     },
     "metadata": {
      "needs_background": "light"
     },
     "output_type": "display_data"
    }
   ],
   "source": [
    "plt.imshow(d0['image'].permute(1,2,0).numpy())"
   ]
  },
  {
   "cell_type": "code",
   "execution_count": null,
   "metadata": {},
   "outputs": [],
   "source": []
  },
  {
   "cell_type": "code",
   "execution_count": 70,
   "metadata": {},
   "outputs": [],
   "source": [
    "import torch\n",
    "import torch.nn as nn\n",
    "import math"
   ]
  },
  {
   "cell_type": "code",
   "execution_count": 26,
   "metadata": {},
   "outputs": [],
   "source": [
    "x = torch.rand((1,3,32,32))"
   ]
  },
  {
   "cell_type": "code",
   "execution_count": 68,
   "metadata": {},
   "outputs": [],
   "source": [
    "model_brain = nn.Sequential(\n",
    "    nn.Conv2d(in_channels=3, out_channels=32, kernel_size=3),\n",
    "    nn.ReLU(),\n",
    "    nn.Conv2d(in_channels=32, out_channels=32, kernel_size=3),\n",
    "    nn.ReLU(),\n",
    "    nn.MaxPool2d(kernel_size=3),\n",
    "    nn.Conv2d(in_channels=32, out_channels=64, kernel_size=3),\n",
    "    nn.ReLU(),\n",
    "    nn.Conv2d(in_channels=64, out_channels=64, kernel_size=3),\n",
    "    nn.ReLU(),\n",
    "    nn.MaxPool2d(kernel_size=3),\n",
    "    nn.Flatten(),\n",
    "    nn.Linear(in_features=64, out_features=8)\n",
    ")"
   ]
  },
  {
   "cell_type": "code",
   "execution_count": 69,
   "metadata": {},
   "outputs": [
    {
     "data": {
      "text/plain": [
       "torch.Size([1, 8])"
      ]
     },
     "execution_count": 69,
     "metadata": {},
     "output_type": "execute_result"
    }
   ],
   "source": [
    "model_brain(x).shape"
   ]
  },
  {
   "cell_type": "code",
   "execution_count": 83,
   "metadata": {},
   "outputs": [],
   "source": [
    "alpha = torch.tensor(math.pi/4)\n",
    "rot = torch.tensor([[torch.cos(alpha), -torch.sin(alpha)], [torch.sin(alpha), torch.cos(alpha)]])\n",
    "a = torch.tensor([[2],[1]]).float()\n",
    "b = torch.tensor([[3],[2]]).float()"
   ]
  },
  {
   "cell_type": "code",
   "execution_count": 84,
   "metadata": {},
   "outputs": [
    {
     "data": {
      "text/plain": [
       "torch.Size([2, 1])"
      ]
     },
     "execution_count": 84,
     "metadata": {},
     "output_type": "execute_result"
    }
   ],
   "source": [
    "a.shape"
   ]
  },
  {
   "cell_type": "code",
   "execution_count": 85,
   "metadata": {},
   "outputs": [
    {
     "data": {
      "text/plain": [
       "tensor([[0.7071],\n",
       "        [2.1213]])"
      ]
     },
     "execution_count": 85,
     "metadata": {},
     "output_type": "execute_result"
    }
   ],
   "source": [
    "torch.mm(rot,a)"
   ]
  },
  {
   "cell_type": "code",
   "execution_count": 86,
   "metadata": {},
   "outputs": [
    {
     "data": {
      "text/plain": [
       "tensor([[0.7071],\n",
       "        [3.5355]])"
      ]
     },
     "execution_count": 86,
     "metadata": {},
     "output_type": "execute_result"
    }
   ],
   "source": [
    "torch.mm(rot,b)"
   ]
  },
  {
   "cell_type": "code",
   "execution_count": 88,
   "metadata": {},
   "outputs": [
    {
     "data": {
      "text/plain": [
       "tensor(8.)"
      ]
     },
     "execution_count": 88,
     "metadata": {},
     "output_type": "execute_result"
    }
   ],
   "source": [
    "torch.tensor(2.0)**3"
   ]
  },
  {
   "cell_type": "code",
   "execution_count": 98,
   "metadata": {},
   "outputs": [],
   "source": [
    "def point_line_distance(x_0, y_0, xp_1, yp_1, xp_2, yp_2):\n",
    "    # Taken from: https://en.wikipedia.org/wiki/Distance_from_a_point_to_a_line\n",
    "    return torch.abs((yp_2-yp_1)*x_0 - (xp_2-xp_1)*y_0 + xp_2*yp_1 - yp_2*xp_1)/torch.sqrt((yp_2-yp_1)**2 + (xp_2-xp_1)**2)"
   ]
  },
  {
   "cell_type": "code",
   "execution_count": 107,
   "metadata": {},
   "outputs": [],
   "source": [
    "x_0 = torch.tensor(-1.0)\n",
    "y_0 = torch.tensor(0.0)\n",
    "xp_1 = torch.tensor(0.0)\n",
    "yp_1 = torch.tensor(0.0)\n",
    "xp_2 = torch.tensor(1.0)\n",
    "yp_2 = torch.tensor(1.0)"
   ]
  },
  {
   "cell_type": "code",
   "execution_count": 108,
   "metadata": {},
   "outputs": [
    {
     "data": {
      "text/plain": [
       "tensor(0.7071)"
      ]
     },
     "execution_count": 108,
     "metadata": {},
     "output_type": "execute_result"
    }
   ],
   "source": [
    "point_line_distance(x_0, y_0, xp_1, yp_1, xp_2, yp_2)"
   ]
  },
  {
   "cell_type": "code",
   "execution_count": null,
   "metadata": {},
   "outputs": [],
   "source": []
  }
 ],
 "metadata": {
  "kernelspec": {
   "display_name": "Python 3",
   "language": "python",
   "name": "python3"
  },
  "language_info": {
   "codemirror_mode": {
    "name": "ipython",
    "version": 3
   },
   "file_extension": ".py",
   "mimetype": "text/x-python",
   "name": "python",
   "nbconvert_exporter": "python",
   "pygments_lexer": "ipython3",
   "version": "3.6.8"
  }
 },
 "nbformat": 4,
 "nbformat_minor": 2
}
