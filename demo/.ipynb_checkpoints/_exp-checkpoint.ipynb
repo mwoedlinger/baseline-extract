{
 "cells": [
  {
   "cell_type": "code",
   "execution_count": 2,
   "metadata": {
    "pycharm": {
     "is_executing": false
    }
   },
   "outputs": [],
   "source": [
    "class Point:\n",
    "    \"\"\"\n",
    "    Represents a point in 2 dim space.\n",
    "    \"\"\"\n",
    "    def __init__(self, x: int = 0, y: int = 0):\n",
    "        self.coords = [x,y]\n",
    "\n",
    "    def scale(self, scale_factor: float):\n",
    "        \"\"\"\n",
    "        Scales both coordinates with the given scale_factor\n",
    "        \"\"\"\n",
    "        self.coords[0] *= scale_factor\n",
    "        self.coords[1] *= scale_factor\n",
    "\n",
    "    def set_from_string(self, coords: str, sep: str = ','):\n",
    "        \"\"\"\n",
    "        Sets the coordinates according to the String coords assuming the strucutre: 'xsepy'.\n",
    "        Example: coords = '13,12' amd sep = ','\n",
    "        :param coords: Coordinate String\n",
    "        :param sep: Seperator\n",
    "        \"\"\"\n",
    "        self.coords[0] = int(coords.split(sep)[0])\n",
    "        self.y = int(coords.split(sep)[1])\n",
    "\n",
    "    def get_as_list(self) -> list:\n",
    "        \"\"\"\n",
    "        Returns the coordinates as a two dimensional list\n",
    "        \"\"\"\n",
    "        return [self.x, self.y]\n",
    "\n",
    "    def __str__(self):\n",
    "        return str(round(self.x)) + ',' + str(round(self.y))"
   ]
  },
  {
   "cell_type": "code",
   "execution_count": 3,
   "metadata": {},
   "outputs": [],
   "source": [
    "p1 = Point(2,3)"
   ]
  },
  {
   "cell_type": "code",
   "execution_count": 6,
   "metadata": {},
   "outputs": [],
   "source": [
    "c = p1.get_as_list()"
   ]
  },
  {
   "cell_type": "code",
   "execution_count": 7,
   "metadata": {},
   "outputs": [
    {
     "data": {
      "text/plain": [
       "[2, 3]"
      ]
     },
     "execution_count": 7,
     "metadata": {},
     "output_type": "execute_result"
    }
   ],
   "source": [
    "c"
   ]
  },
  {
   "cell_type": "code",
   "execution_count": 11,
   "metadata": {},
   "outputs": [
    {
     "name": "stdout",
     "output_type": "stream",
     "text": [
      "2,3\n"
     ]
    }
   ],
   "source": [
    "print(p1)"
   ]
  },
  {
   "cell_type": "code",
   "execution_count": 9,
   "metadata": {},
   "outputs": [],
   "source": [
    "c[0] = 4"
   ]
  },
  {
   "cell_type": "code",
   "execution_count": null,
   "metadata": {},
   "outputs": [],
   "source": []
  }
 ],
 "metadata": {
  "kernelspec": {
   "display_name": "Python 3",
   "language": "python",
   "name": "python3"
  },
  "language_info": {
   "codemirror_mode": {
    "name": "ipython",
    "version": 3
   },
   "file_extension": ".py",
   "mimetype": "text/x-python",
   "name": "python",
   "nbconvert_exporter": "python",
   "pygments_lexer": "ipython3",
   "version": "3.6.8"
  },
  "pycharm": {
   "stem_cell": {
    "cell_type": "raw",
    "metadata": {
     "collapsed": false
    },
    "source": []
   }
  }
 },
 "nbformat": 4,
 "nbformat_minor": 1
}
