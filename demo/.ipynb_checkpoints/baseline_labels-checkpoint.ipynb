{
 "cells": [
  {
   "cell_type": "markdown",
   "metadata": {},
   "source": [
    "# (OLD) extract baseline labels"
   ]
  },
  {
   "cell_type": "code",
   "execution_count": 7,
   "metadata": {},
   "outputs": [],
   "source": [
    "import os, sys\n",
    "sys.path.append('C:\\\\Users\\\\matthias\\\\Documents\\\\myProjects\\\\TU_Bibliothek\\\\code\\\\bl-extract')\n",
    "\n",
    "from src.data.xml_parser import XMLParser\n",
    "from tqdm import tqdm_notebook as tqdm"
   ]
  },
  {
   "cell_type": "code",
   "execution_count": 8,
   "metadata": {},
   "outputs": [],
   "source": [
    "cfg_input_folder = os.path.join('..', 'data', 'cBAD-ICDAR2019')\n",
    "cfg_output_folder = os.path.join('..', 'data', 'cBAD-ICDAR2019-labels')\n",
    "cfg_max_side = 1000"
   ]
  },
  {
   "cell_type": "code",
   "execution_count": 10,
   "metadata": {},
   "outputs": [],
   "source": [
    "if not os.path.isdir(cfg_output_folder):\n",
    "    os.mkdir(cfg_output_folder)\n",
    "if not os.path.isdir(os.path.join(cfg_output_folder, 'train')):\n",
    "    os.mkdir(os.path.join(cfg_output_folder, 'train'))\n",
    "if not os.path.isdir(os.path.join(cfg_output_folder, 'test')):\n",
    "    os.mkdir(os.path.join(cfg_output_folder, 'test'))\n",
    "if not os.path.isdir(os.path.join(cfg_output_folder, 'eval')):\n",
    "    os.mkdir(os.path.join(cfg_output_folder, 'eval'))"
   ]
  },
  {
   "cell_type": "code",
   "execution_count": 9,
   "metadata": {},
   "outputs": [
    {
     "data": {
      "application/vnd.jupyter.widget-view+json": {
       "model_id": "b367169010054aed9c3bc1615bd82ac8",
       "version_major": 2,
       "version_minor": 0
      },
      "text/plain": [
       "HBox(children=(IntProgress(value=1, bar_style='info', max=1), HTML(value='')))"
      ]
     },
     "metadata": {},
     "output_type": "display_data"
    },
    {
     "name": "stdout",
     "output_type": "stream",
     "text": [
      "inf_type: eval\n"
     ]
    },
    {
     "ename": "TypeError",
     "evalue": "write() argument must be str, not list",
     "output_type": "error",
     "traceback": [
      "\u001b[1;31m---------------------------------------------------------------------------\u001b[0m",
      "\u001b[1;31mTypeError\u001b[0m                                 Traceback (most recent call last)",
      "\u001b[1;32m<ipython-input-9-0607229a6b0e>\u001b[0m in \u001b[0;36m<module>\u001b[1;34m\u001b[0m\n\u001b[0;32m     20\u001b[0m \u001b[1;33m\u001b[0m\u001b[0m\n\u001b[0;32m     21\u001b[0m         \u001b[1;32mwith\u001b[0m \u001b[0mopen\u001b[0m\u001b[1;33m(\u001b[0m\u001b[0mos\u001b[0m\u001b[1;33m.\u001b[0m\u001b[0mpath\u001b[0m\u001b[1;33m.\u001b[0m\u001b[0mjoin\u001b[0m\u001b[1;33m(\u001b[0m\u001b[0mcfg_output_folder\u001b[0m\u001b[1;33m,\u001b[0m \u001b[0minf_type\u001b[0m\u001b[1;33m+\u001b[0m\u001b[1;34m'.txt'\u001b[0m\u001b[1;33m)\u001b[0m\u001b[1;33m,\u001b[0m \u001b[1;34m'w'\u001b[0m\u001b[1;33m)\u001b[0m \u001b[1;32mas\u001b[0m \u001b[0mtxt_file\u001b[0m\u001b[1;33m:\u001b[0m\u001b[1;33m\u001b[0m\u001b[1;33m\u001b[0m\u001b[0m\n\u001b[1;32m---> 22\u001b[1;33m             \u001b[0mtxt_file\u001b[0m\u001b[1;33m.\u001b[0m\u001b[0mwritelines\u001b[0m\u001b[1;33m(\u001b[0m\u001b[0mbaseline_list\u001b[0m\u001b[1;33m)\u001b[0m\u001b[1;33m\u001b[0m\u001b[1;33m\u001b[0m\u001b[0m\n\u001b[0m",
      "\u001b[1;31mTypeError\u001b[0m: write() argument must be str, not list"
     ]
    }
   ],
   "source": [
    "for root, dirs, files in tqdm(os.walk(cfg_input_folder)):\n",
    "    if 'page' in root:\n",
    "        if 'train' in root:\n",
    "            inf_type = 'train'\n",
    "        elif 'eval' in root:\n",
    "            inf_type = 'eval'\n",
    "        elif 'test' in root:\n",
    "            inf_type = 'test'\n",
    "            \n",
    "        print('inf_type: ' + inf_type)\n",
    "        filenames = [os.path.join(root, f) for f in files]\n",
    "        \n",
    "        \n",
    "        for f in filenames:\n",
    "            parser = XMLParser(f)\n",
    "            parser.extract_points()\n",
    "            parser.scale(cfg_max_side)\n",
    "            baseline = parser.get_baselines()\n",
    "            baseline_str = '\\n'.join(baseline)\n",
    "        \n",
    "            with open(os.path.join(cfg_output_folder, inf_type+'.txt'), 'w') as txt_file:\n",
    "                txt_file.writelines(baseline_list)\n"
   ]
  },
  {
   "cell_type": "code",
   "execution_count": null,
   "metadata": {},
   "outputs": [],
   "source": []
  }
 ],
 "metadata": {
  "kernelspec": {
   "display_name": "Python 3",
   "language": "python",
   "name": "python3"
  },
  "language_info": {
   "codemirror_mode": {
    "name": "ipython",
    "version": 3
   },
   "file_extension": ".py",
   "mimetype": "text/x-python",
   "name": "python",
   "nbconvert_exporter": "python",
   "pygments_lexer": "ipython3",
   "version": "3.6.8"
  }
 },
 "nbformat": 4,
 "nbformat_minor": 1
}
